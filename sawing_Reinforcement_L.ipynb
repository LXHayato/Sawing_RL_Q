{
  "nbformat": 4,
  "nbformat_minor": 0,
  "metadata": {
    "colab": {
      "name": "sawing_Reinforcement_L.ipynb",
      "provenance": [],
      "collapsed_sections": [],
      "authorship_tag": "ABX9TyMW/sZ3ihuuEZiam75DFDsv",
      "include_colab_link": true
    },
    "kernelspec": {
      "name": "python3",
      "display_name": "Python 3"
    }
  },
  "cells": [
    {
      "cell_type": "markdown",
      "metadata": {
        "id": "view-in-github",
        "colab_type": "text"
      },
      "source": [
        "<a href=\"https://colab.research.google.com/github/LXHayato/Sawing_Reinforcement_L/blob/main/sawing_Reinforcement_L.ipynb\" target=\"_parent\"><img src=\"https://colab.research.google.com/assets/colab-badge.svg\" alt=\"Open In Colab\"/></a>"
      ]
    },
    {
      "cell_type": "code",
      "metadata": {
        "id": "2mvP58QeWYR6"
      },
      "source": [
        "#とりあえずカテドラルローブのみ\r\n",
        "#Q学習\r\n",
        "\r\n",
        "class QL_Agent\r\n",
        "  def_init_(self,alpha=0.2, epsilon=0.1, gamma=0.99, actions=None, observation=None):\r\n",
        "    self.alpha=alpha\r\n",
        "    self.gamma=gamma\r\n",
        "    self.epsilon=epsilon\r\n",
        "    self.rewrd_history=[]\r\n",
        "    self.actions=actions\r\n",
        "    self.state=str(observation)\r\n",
        "    self.ini_state=str(observation)\r\n",
        "    self.previous_state=None\r\n",
        "    self.previous_action=None\r\n",
        "    self.q_values=self._init_q_values()\r\n",
        "\r\n",
        "    "
      ],
      "execution_count": null,
      "outputs": []
    }
  ]
}