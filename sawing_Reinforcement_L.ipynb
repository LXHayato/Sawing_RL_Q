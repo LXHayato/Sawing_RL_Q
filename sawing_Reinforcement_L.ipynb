{
  "nbformat": 4,
  "nbformat_minor": 0,
  "metadata": {
    "colab": {
      "name": "sawing_Reinforcement_L.ipynb",
      "provenance": [],
      "collapsed_sections": [],
      "authorship_tag": "ABX9TyPn6f/Ipk2yCiauXaK6vlDq",
      "include_colab_link": true
    },
    "kernelspec": {
      "name": "python3",
      "display_name": "Python 3"
    }
  },
  "cells": [
    {
      "cell_type": "markdown",
      "metadata": {
        "id": "view-in-github",
        "colab_type": "text"
      },
      "source": [
        "<a href=\"https://colab.research.google.com/github/LXHayato/Sawing_Reinforcement_L/blob/main/sawing_Reinforcement_L.ipynb\" target=\"_parent\"><img src=\"https://colab.research.google.com/assets/colab-badge.svg\" alt=\"Open In Colab\"/></a>"
      ]
    },
    {
      "cell_type": "code",
      "metadata": {
        "id": "2mvP58QeWYR6"
      },
      "source": [
        "#とりあえずカテドラルローブのみ\r\n",
        "import numpy as np\r\n",
        "import matplotlib.pyplot as plt\r\n",
        "import copy\r\n",
        "\r\n",
        "#Q学習\r\n",
        "class QL_Agent:\r\n",
        "  def __init__(self, alpha=.2, epsilon=.1, gamma=.99, actions=None, observation=None):\r\n",
        "    self.alpha=alpha\r\n",
        "    self.gamma=gamma\r\n",
        "    self.epsilon=epsilon\r\n",
        "    self.rewrd_history=[]\r\n",
        "    self.actions=actions\r\n",
        "    self.state=str(observation)\r\n",
        "    self.ini_state=str(observation)\r\n",
        "    self.previous_state=None\r\n",
        "    self.previous_action=None\r\n",
        "    self.q_values=self._init_q_values()\r\n",
        "\r\n",
        "#Qテーブルの初期化\r\n",
        "  def _init_q_values(self):\r\n",
        "    q_values={}\r\n",
        "    q_values[self.state]=np.repeat(0.0, len(self.actions))\r\n",
        "    return q_values\r\n",
        "\r\n",
        "#状態の初期化\r\n",
        "  def init_state(self):\r\n",
        "    self.previous_state=copy.deepcopy(self.ini_state)\r\n",
        "    self.state=copy.deepcopy(self.ini_state)\r\n",
        "    return self.state\r\n",
        "\r\n",
        "#ε-greedy選択\r\n",
        "  def act(self):\r\n",
        "    #ランダム行動\r\n",
        "    if np.random.uniform() < self.epsilon:\r\n",
        "      action=np.random.randint(0, len(self.q_values[self.state]))\r\n",
        "    #greedy行動\r\n",
        "    else:\r\n",
        "      action=np.argmax(self.q_values[self.state])\r\n",
        "\r\n",
        "    self.previous_action=action\r\n",
        "    return action\r\n",
        "\r\n",
        "#次の状態と報酬の観測\r\n",
        "  def observe(self, next_state, reward=None):\r\n",
        "    next_state=str(next_state)\r\n",
        "    #初めて訪れる状態であれば\r\n",
        "    if next_state not in self.q_values:\r\n",
        "      self.q_values[next_state]=np.repeat(0.0, len(self.actions))\r\n",
        "\r\n",
        "    self.previous_state=copy.deepcopy(self.state)\r\n",
        "    self.state=next_state\r\n",
        "\r\n",
        "    if reward is not None:\r\n",
        "      self.reward_history.append(reward)\r\n",
        "      self.learn(reward)\r\n",
        "    \r\n",
        "#Q値の更新\r\n",
        "  def learn(self, reward):\r\n",
        "    q=self.q_values[self.previous_state][self.previous_action]\r\n",
        "    max_q=max(self.q_values[self.state])\r\n",
        "    self.q_values[self.previous_state][self.previous_action]=q+(self.alpha*(reward+(self.gamma*max_q)-q))\r\n",
        "\r\n",
        "\r\n",
        "#World\r\n",
        "class World:\r\n",
        "  def __init__(self):\r\n",
        "    self.actions ={\r\n",
        "        \"UL\":0,\"UC\":1,\"UR\":2,\r\n",
        "        \"CL\":3,\"CC\":4,\"CR\":5,\r\n",
        "        \"DL\":6,\"DC\":7,\"DR\":8\r\n",
        "    }\r\n",
        "\r\n",
        "    self.saw = {\r\n",
        "        \r\n",
        "    }\r\n",
        "\r\n",
        "\r\n"
      ],
      "execution_count": 6,
      "outputs": []
    },
    {
      "cell_type": "code",
      "metadata": {
        "id": "dvitsz0Ng-eZ"
      },
      "source": [
        ""
      ],
      "execution_count": null,
      "outputs": []
    }
  ]
}